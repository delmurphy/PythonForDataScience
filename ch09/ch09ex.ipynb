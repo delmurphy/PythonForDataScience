{
 "cells": [
  {
   "cell_type": "code",
   "execution_count": 5,
   "metadata": {},
   "outputs": [],
   "source": [
    "#ex9.1 (Class Average: Writing Grades to a Plain Text File) \n",
    "# Figure 3.2 presented a class-average script in which you could enter any number of grades followed by a sentinel value, then calculate the class average. \n",
    "# Another approach would be to read the grades from a file. In an IPython session, write code that enables you to store any number of grades into a grades.txt plain text file\n",
    "\n",
    "with open('grades.txt', 'w') as grades:\n",
    "    grade = input('Enter grade (-1 to end):\\n')\n",
    "    while grade != '-1':\n",
    "        #check grade is numeric:\n",
    "        try:\n",
    "            float(grade)\n",
    "        except ValueError:\n",
    "            grade = input(f'{grade} is not a valid grade, please enter a numeric grade: \\n')\n",
    "        #check grade is between 0 and 100:\n",
    "        if float(grade) >100 or float(grade) < 0:\n",
    "            grade = input(f'{grade} is not a valid grade, please enter a grade between 0 and 100: \\n')\n",
    "        else:\n",
    "            grades.write(grade + '\\n')\n",
    "            grade = input('Enter grade (-1 to end):\\n')\n",
    "\n",
    "\n"
   ]
  },
  {
   "cell_type": "code",
   "execution_count": 10,
   "metadata": {},
   "outputs": [
    {
     "name": "stdout",
     "output_type": "stream",
     "text": [
      "grades\n",
      "50\n",
      "33\n",
      "100\n",
      "78\n",
      "79\n",
      "50\n",
      "45\n",
      "65\n",
      "67\n",
      "total = 567.0\n",
      "count = 9\n",
      "mean = 63.0\n"
     ]
    }
   ],
   "source": [
    "#ex9.2 (Class Average: Reading Grades from a Plain Text File) \n",
    "# In an IPython session, write code that reads the grades from the grades.txt file you created in the previous exercise. \n",
    "# Display the individual grades and their total, count and average\n",
    "\n",
    "with open('grades.txt', 'r') as grades:\n",
    "    total = 0\n",
    "    count = 0\n",
    "    print('grades')\n",
    "    for grade in grades:\n",
    "        print(grade, end = '')\n",
    "        total += float(grade)\n",
    "        count += 1\n",
    "    print(f'total = {total}')\n",
    "    print(f'count = {count}')\n",
    "    print(f'mean = {total/count}')\n",
    "    "
   ]
  },
  {
   "cell_type": "code",
   "execution_count": 13,
   "metadata": {},
   "outputs": [],
   "source": [
    "#ex9.3 (Class Average: Writing Student Records to a CSV File) \n",
    "# An instructor teaches a class in which each student takes three exams. \n",
    "# The instructor would like to store this information in a file named grades.csv for later use. \n",
    "# Write code that enables an instructor to enter each student’s first name and last name as strings and the student’s three exam grades as integers. \n",
    "# Use the csv module to write each record into the grades.csv file. Each record should be a single line of text in the following CSV format:\n",
    "#  firstname,lastname,exam1grade,exam2grade,exam3grade\n",
    "\n",
    "import csv\n",
    "\n",
    "with open('grades.csv', 'w', newline = '') as grades:\n",
    "    writer = csv.writer(grades)\n",
    "    gradeinput = input('Enter grades in the format: firstname lastname grade1 grade2 grade3 (press enter to finish):\\n')\n",
    "    while gradeinput != '':\n",
    "        grade = gradeinput.split()\n",
    "        writer.writerow(grade)\n",
    "        gradeinput = input('Enter grades in the format: firstname lastname grade1 grade2 grade3 (press enter to finish):\\n')\n"
   ]
  },
  {
   "cell_type": "code",
   "execution_count": 16,
   "metadata": {},
   "outputs": [
    {
     "name": "stdout",
     "output_type": "stream",
     "text": [
      "First name  Last name      Grade 1   Grade 2   Grade 3\n",
      "Amy         Adams               65        70        76\n",
      "Billy       Bob                 65        60        61\n",
      "Charlie     Chaplin             80        75        71\n",
      "Don         Donson              50        45        56\n"
     ]
    }
   ],
   "source": [
    "#ex9.4 (Class Average: Reading Student Records from a CSV File) \n",
    "# Use the csv module to read the grades.csv file from the previous exercise. Display the data in tabular format.\n",
    "\n",
    "import csv\n",
    "\n",
    "with open('grades.csv', 'r', newline = '') as grades:\n",
    "    reader = csv.reader(grades)\n",
    "    print(f'{\"First name\":<12}{\"Last name\":<12}{\"Grade 1\":>10}{\"Grade 2\":>10}{\"Grade 3\":>10}')\n",
    "    for record in reader:\n",
    "        firstname, lastname, g1, g2, g3 = record\n",
    "        print(f'{firstname:<12}{lastname:<12}{g1:>10}{g2:>10}{g3:>10}')\n"
   ]
  },
  {
   "cell_type": "code",
   "execution_count": 27,
   "metadata": {},
   "outputs": [
    {
     "name": "stdout",
     "output_type": "stream",
     "text": [
      "First name  Last name      Grade 1   Grade 2   Grade 3  Mean grade\n",
      "Amy         Adams               65        70        76       70.33\n",
      "Billy       Bob                 65        60        61       62.00\n",
      "Charlie     Chaplin             80        75        71       75.33\n",
      "Don         Donson              50        45        56       50.33\n",
      "Class average (mean)         65.00     62.50     66.00\n"
     ]
    }
   ],
   "source": [
    "#ex9.5 (Class Average: Creating a Grade Report from a CSV File) \n",
    "# Modify your solution to the preceding exercise to create a grade report that displays each student’s average to the right \n",
    "# of that student’s row and the class average for each exam below that exam’s column.\n",
    "\n",
    "import csv\n",
    "\n",
    "with open('grades.csv', 'r', newline = '') as grades:\n",
    "    reader = csv.reader(grades)\n",
    "    print(f'{\"First name\":<12}{\"Last name\":<12}{\"Grade 1\":>10}{\"Grade 2\":>10}{\"Grade 3\":>10}{\"Mean grade\":>12}')\n",
    "    g1_total = 0\n",
    "    g2_total = 0\n",
    "    g3_total = 0\n",
    "    count = 0\n",
    "    for record in reader:\n",
    "        firstname, lastname, g1, g2, g3 = record\n",
    "        g1_total += float(g1)\n",
    "        g2_total += float(g2)\n",
    "        g3_total += float(g3)\n",
    "        count += 1\n",
    "        g_avg = (float(g1) + float(g2) + float(g3))/3\n",
    "        print(f'{firstname:<12}{lastname:<12}{g1:>10}{g2:>10}{g3:>10}{g_avg:>12.2f}')\n",
    "    print(f'{\"Class average (mean)\":<24}{g1_total/count:>10.2f}{g2_total/count:>10.2f}{g3_total/count:>10.2f}')"
   ]
  },
  {
   "cell_type": "code",
   "execution_count": 30,
   "metadata": {},
   "outputs": [],
   "source": [
    "#ex9.6 (Class Average: Writing a Gradebook Dictionary to a JSON File) \n",
    "# Reimplement Exercise 9.3 using the json module to write the student information to the file in JSON format. \n",
    "# For this exercise, create a dictionary of student data in the following format:\n",
    "#   gradebook_dict = {'students': [student1dictionary, student2dictionary, ...]}\n",
    "# Each dictionary in the list represents one student and contains the keys 'first_name', 'last_name', 'exam1', 'exam2' and 'exam3', \n",
    "# which map to the values representing each student’s first name (string), last name (string) and three exam scores (integers). \n",
    "# Output the gradebook_dict in JSON format to the file grades.json\n",
    "\n",
    "\n",
    "import json\n",
    "\n",
    "grade_list = []\n",
    "gradeinput = input('Enter grades in the format: firstname lastname grade1 grade2 grade3 (press enter to finish):\\n')\n",
    "while gradeinput != '':\n",
    "    grade = gradeinput.split()\n",
    "    firstname, lastname, g1, g2, g3 = grade\n",
    "    grade_list.append({'firstname':firstname, 'lastname':lastname, 'grade1':int(g1), 'grade2':int(g2), 'grade3':int(g3)})\n",
    "    gradeinput = input('Enter grades in the format: firstname lastname grade1 grade2 grade3 (press enter to finish):\\n')\n",
    "\n",
    "grade_dict = {'students': grade_list}\n",
    "\n",
    "with open('grades.json', 'w') as grades:\n",
    "    json.dump(grade_dict, grades)\n"
   ]
  },
  {
   "cell_type": "code",
   "execution_count": 46,
   "metadata": {},
   "outputs": [
    {
     "name": "stdout",
     "output_type": "stream",
     "text": [
      "First name  Last name      Grade 1   Grade 2   Grade 3  Mean grade\n",
      "Amy         Adams               60        70        80        70.0\n",
      "Ben         Benson              70        80        90        80.0\n",
      "Carl        Carlson             60        50        70        60.0\n",
      "Don         Donson              80        90        70        80.0\n",
      "Class mean grade:            67.50     72.50     77.50\n"
     ]
    }
   ],
   "source": [
    "#ex9.7 (Class Average: Reading a Gradebook Dictionary from a JSON File) \n",
    "# Reimplement Exercise 9.4 using the json module to read the grades.json file created in the previous exercise. \n",
    "# Display the data in tabular format, including an additional column showing each student’s average to the right of that student’s \n",
    "# three exam grades and an additional row showing the class average on each exam below that exam’s column\n",
    "\n",
    "import json\n",
    "\n",
    "with open('grades.json', 'r') as grades_json:\n",
    "    grades = json.load(grades_json)\n",
    "\n",
    "print(f'{\"First name\":<12}{\"Last name\":<12}{\"Grade 1\":>10}{\"Grade 2\":>10}{\"Grade 3\":>10}{\"Mean grade\":>12}')\n",
    "g1_sum = 0\n",
    "g2_sum = 0\n",
    "g3_sum = 0\n",
    "count = 0\n",
    "for student in grades['students']:\n",
    "    firstname, lastname, g1, g2, g3 = student.values()\n",
    "    g1_sum += g1\n",
    "    g2_sum += g2\n",
    "    g3_sum += g3\n",
    "    count +=1\n",
    "    student_mean = (g1 + g2 + g3)/3\n",
    "    print(f'{firstname:<12}{lastname:<12}{g1:>10}{g2:>10}{g3:>10}{student_mean:>12}')\n",
    "print(f'{\"Class mean grade:\":<24}{g1_sum/count:>10.2f}{g2_sum/count:>10.2f}{g3_sum/count:>10.2f}')\n",
    "    "
   ]
  },
  {
   "cell_type": "code",
   "execution_count": 9,
   "metadata": {},
   "outputs": [
    {
     "name": "stdout",
     "output_type": "stream",
     "text": [
      "Total word count = 121810\n",
      "Character count (including spaces) = 690669\n",
      "Average word length = 4.62 letters\n",
      "Average sentence length = 19.43 words\n",
      "\n",
      "Word distribution with frequency counts (sorted from most to least frequent):\n",
      "\n",
      "(Only displaying top 10 here)\n",
      "Word                 Frequency\n",
      "the                       4338\n",
      "to                        4162\n",
      "of                        3630\n",
      "and                       3586\n",
      "her                       2224\n",
      "i                         2074\n",
      "a                         1943\n",
      "in                        1882\n",
      "was                       1847\n",
      "she                       1709\n",
      "\n",
      "Top 10 longest words:\n",
      "   Word                 Length\n",
      "1  disinterestedness        17\n",
      "2  misrepresentation        17\n",
      "3  communicativeness        17\n",
      "4  superciliousness         16\n",
      "5  incomprehensible         16\n",
      "6  discontentedness         16\n",
      "7  incomprehensible         16\n",
      "8  accomplishments          15\n",
      "9  accomplishments          15\n",
      "10 acknowledgments          15\n"
     ]
    }
   ],
   "source": [
    "#ex9.10 (Project: Analyzing a Book from Project Gutenberg) \n",
    "# Download the text-file version of Pride and Prejudice from Project Gutenberg\n",
    "#  https://www.gutenberg.org/ebooks/1342\n",
    "#  Create a script that reads Pride and Prejudice from a text file. \n",
    "# Produce statistics about the book, including the total word count, the total character count, the average word length, the average sentence length, \n",
    "# a word distribution containing frequency counts of all words, and the top 10 longest words. \n",
    "\n",
    "# In the “Natural Language Processing (NLP)” chapter, you’ll find lots of more sophisticated techniques for analyzing and comparing such texts.\n",
    "#  Each Project Gutenberg e-book begins and ends with some additional text, such as licensing information, which is not part of the e-book itself. \n",
    "# You may want to remove that text from your copy of the book before analyzing its text\n",
    "\n",
    "import numpy as np\n",
    "import re\n",
    "\n",
    "wordcount = 0\n",
    "charcount = 0\n",
    "wordlength = []\n",
    "words = []\n",
    "with open('PrideAndPrejudice.txt', 'r') as pride:\n",
    "    for line in pride:\n",
    "        wordcount += len(line.split())\n",
    "        charcount += len(line)\n",
    "        for word in line.split():\n",
    "            wordlength.append(len(word))\n",
    "            words.append(word)\n",
    "    print(f'Total word count = {wordcount}')\n",
    "    print(f'Character count (including spaces) = {charcount}')\n",
    "    print(f'Average word length = {sum(wordlength)/len(wordlength):.2f} letters')\n",
    "    #get the number of words per sentence by joining the words list to a list of sentences (separated by \".\") then counting the number of words per sentence\n",
    "    sentences = (' '.join(words))\n",
    "    sentence_length = [len(i.split()) for i in sentences.split('.')]\n",
    "    print(f'Average sentence length = {sum(sentence_length)/len(sentence_length):.2f} words')\n",
    "    #create dictionary to record number of occurences of each word (all lowercase, without punctuation or non alphanumeric characters)\n",
    "    sentences = sentences.lower()\n",
    "    #note some words are joined by '--' instead of a space - replace '-' with space\n",
    "    sentences = re.sub('-', ' ', sentences)\n",
    "    letters = [letter for letter in sentences if (letter.isalpha() or letter.isspace()) and letter not in ['ï']]\n",
    "    wordlist = ''.join(letters).split()\n",
    "    word, freq = np.unique(wordlist, return_counts=True)\n",
    "    wordfreq = list(zip(word, freq))\n",
    "    wordfreq = sorted(wordfreq, reverse = True, key = lambda x: x[1])\n",
    "    print('\\nWord distribution with frequency counts (sorted from most to least frequent):')\n",
    "    print('\\n(Only displaying top 10 here)')\n",
    "    print(f'{\"Word\":<20}{\"Frequency\":>10}')\n",
    "    for row in wordfreq[0:10]:\n",
    "        w, f = row\n",
    "        print(f'{w:<20}{f:>10}')\n",
    "    #To get the top 10 longest words, count the letters in each word in wordlist (which have already been stripped of non-alpha characters)\n",
    "    wordlengths = [len(word) for word in wordlist]\n",
    "    # then zip the wordlist and wordlengths lists together and display the top 10 longest words\n",
    "    longwords = list(zip(wordlist, wordlengths))\n",
    "    print('\\nTop 10 longest words:')\n",
    "    longwords = sorted(longwords, reverse = True, key = lambda x: x[1])[0:10]\n",
    "    print(f'{\" \":<3}{\"Word\":<20}{\"Length\":>7}')\n",
    "    i = 1\n",
    "    for row in longwords:\n",
    "        w, l = row\n",
    "        print(f'{i:<3}{w:<20}{l:>7}')\n",
    "        i += 1\n"
   ]
  }
 ],
 "metadata": {
  "kernelspec": {
   "display_name": "Python 3",
   "language": "python",
   "name": "python3"
  },
  "language_info": {
   "codemirror_mode": {
    "name": "ipython",
    "version": 3
   },
   "file_extension": ".py",
   "mimetype": "text/x-python",
   "name": "python",
   "nbconvert_exporter": "python",
   "pygments_lexer": "ipython3",
   "version": "3.9.5"
  }
 },
 "nbformat": 4,
 "nbformat_minor": 2
}
