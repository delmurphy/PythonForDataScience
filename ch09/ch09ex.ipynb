{
 "cells": [
  {
   "cell_type": "code",
   "execution_count": 5,
   "metadata": {},
   "outputs": [],
   "source": [
    "#ex9.1 (Class Average: Writing Grades to a Plain Text File) \n",
    "# Figure 3.2 presented a class-average script in which you could enter any number of grades followed by a sentinel value, then calculate the class average. \n",
    "# Another approach would be to read the grades from a file. In an IPython session, write code that enables you to store any number of grades into a grades.txt plain text file\n",
    "\n",
    "with open('grades.txt', 'w') as grades:\n",
    "    grade = input('Enter grade (-1 to end):\\n')\n",
    "    while grade != '-1':\n",
    "        #check grade is numeric:\n",
    "        try:\n",
    "            float(grade)\n",
    "        except ValueError:\n",
    "            grade = input(f'{grade} is not a valid grade, please enter a numeric grade: \\n')\n",
    "        #check grade is between 0 and 100:\n",
    "        if float(grade) >100 or float(grade) < 0:\n",
    "            grade = input(f'{grade} is not a valid grade, please enter a grade between 0 and 100: \\n')\n",
    "        else:\n",
    "            grades.write(grade + '\\n')\n",
    "            grade = input('Enter grade (-1 to end):\\n')\n",
    "\n",
    "\n"
   ]
  },
  {
   "cell_type": "code",
   "execution_count": 10,
   "metadata": {},
   "outputs": [
    {
     "name": "stdout",
     "output_type": "stream",
     "text": [
      "grades\n",
      "50\n",
      "33\n",
      "100\n",
      "78\n",
      "79\n",
      "50\n",
      "45\n",
      "65\n",
      "67\n",
      "total = 567.0\n",
      "count = 9\n",
      "mean = 63.0\n"
     ]
    }
   ],
   "source": [
    "#ex9.2 (Class Average: Reading Grades from a Plain Text File) \n",
    "# In an IPython session, write code that reads the grades from the grades.txt file you created in the previous exercise. \n",
    "# Display the individual grades and their total, count and average\n",
    "\n",
    "with open('grades.txt', 'r') as grades:\n",
    "    total = 0\n",
    "    count = 0\n",
    "    print('grades')\n",
    "    for grade in grades:\n",
    "        print(grade, end = '')\n",
    "        total += float(grade)\n",
    "        count += 1\n",
    "    print(f'total = {total}')\n",
    "    print(f'count = {count}')\n",
    "    print(f'mean = {total/count}')\n",
    "    "
   ]
  },
  {
   "cell_type": "code",
   "execution_count": 13,
   "metadata": {},
   "outputs": [],
   "source": [
    "#ex9.3 (Class Average: Writing Student Records to a CSV File) \n",
    "# An instructor teaches a class in which each student takes three exams. \n",
    "# The instructor would like to store this information in a file named grades.csv for later use. \n",
    "# Write code that enables an instructor to enter each student’s first name and last name as strings and the student’s three exam grades as integers. \n",
    "# Use the csv module to write each record into the grades.csv file. Each record should be a single line of text in the following CSV format:\n",
    "#  firstname,lastname,exam1grade,exam2grade,exam3grade\n",
    "\n",
    "import csv\n",
    "\n",
    "with open('grades.csv', 'w', newline = '') as grades:\n",
    "    writer = csv.writer(grades)\n",
    "    gradeinput = input('Enter grades in the format: firstname lastname grade1 grade2 grade3 (press enter to finish):\\n')\n",
    "    while gradeinput != '':\n",
    "        grade = gradeinput.split()\n",
    "        writer.writerow(grade)\n",
    "        gradeinput = input('Enter grades in the format: firstname lastname grade1 grade2 grade3 (press enter to finish):\\n')\n"
   ]
  },
  {
   "cell_type": "code",
   "execution_count": 16,
   "metadata": {},
   "outputs": [
    {
     "name": "stdout",
     "output_type": "stream",
     "text": [
      "First name  Last name      Grade 1   Grade 2   Grade 3\n",
      "Amy         Adams               65        70        76\n",
      "Billy       Bob                 65        60        61\n",
      "Charlie     Chaplin             80        75        71\n",
      "Don         Donson              50        45        56\n"
     ]
    }
   ],
   "source": [
    "#ex9.4 (Class Average: Reading Student Records from a CSV File) \n",
    "# Use the csv module to read the grades.csv file from the previous exercise. Display the data in tabular format.\n",
    "\n",
    "import csv\n",
    "\n",
    "with open('grades.csv', 'r', newline = '') as grades:\n",
    "    reader = csv.reader(grades)\n",
    "    print(f'{\"First name\":<12}{\"Last name\":<12}{\"Grade 1\":>10}{\"Grade 2\":>10}{\"Grade 3\":>10}')\n",
    "    for record in reader:\n",
    "        firstname, lastname, g1, g2, g3 = record\n",
    "        print(f'{firstname:<12}{lastname:<12}{g1:>10}{g2:>10}{g3:>10}')\n"
   ]
  },
  {
   "cell_type": "code",
   "execution_count": 27,
   "metadata": {},
   "outputs": [
    {
     "name": "stdout",
     "output_type": "stream",
     "text": [
      "First name  Last name      Grade 1   Grade 2   Grade 3  Mean grade\n",
      "Amy         Adams               65        70        76       70.33\n",
      "Billy       Bob                 65        60        61       62.00\n",
      "Charlie     Chaplin             80        75        71       75.33\n",
      "Don         Donson              50        45        56       50.33\n",
      "Class average (mean)         65.00     62.50     66.00\n"
     ]
    }
   ],
   "source": [
    "#ex9.5 (Class Average: Creating a Grade Report from a CSV File) \n",
    "# Modify your solution to the preceding exercise to create a grade report that displays each student’s average to the right \n",
    "# of that student’s row and the class average for each exam below that exam’s column.\n",
    "\n",
    "import csv\n",
    "\n",
    "with open('grades.csv', 'r', newline = '') as grades:\n",
    "    reader = csv.reader(grades)\n",
    "    print(f'{\"First name\":<12}{\"Last name\":<12}{\"Grade 1\":>10}{\"Grade 2\":>10}{\"Grade 3\":>10}{\"Mean grade\":>12}')\n",
    "    g1_total = 0\n",
    "    g2_total = 0\n",
    "    g3_total = 0\n",
    "    count = 0\n",
    "    for record in reader:\n",
    "        firstname, lastname, g1, g2, g3 = record\n",
    "        g1_total += float(g1)\n",
    "        g2_total += float(g2)\n",
    "        g3_total += float(g3)\n",
    "        count += 1\n",
    "        g_avg = (float(g1) + float(g2) + float(g3))/3\n",
    "        print(f'{firstname:<12}{lastname:<12}{g1:>10}{g2:>10}{g3:>10}{g_avg:>12.2f}')\n",
    "    print(f'{\"Class average (mean)\":<24}{g1_total/count:>10.2f}{g2_total/count:>10.2f}{g3_total/count:>10.2f}')"
   ]
  },
  {
   "cell_type": "code",
   "execution_count": 30,
   "metadata": {},
   "outputs": [],
   "source": [
    "#ex9.6 (Class Average: Writing a Gradebook Dictionary to a JSON File) \n",
    "# Reimplement Exercise 9.3 using the json module to write the student information to the file in JSON format. \n",
    "# For this exercise, create a dictionary of student data in the following format:\n",
    "#   gradebook_dict = {'students': [student1dictionary, student2dictionary, ...]}\n",
    "# Each dictionary in the list represents one student and contains the keys 'first_name', 'last_name', 'exam1', 'exam2' and 'exam3', \n",
    "# which map to the values representing each student’s first name (string), last name (string) and three exam scores (integers). \n",
    "# Output the gradebook_dict in JSON format to the file grades.json\n",
    "\n",
    "\n",
    "import json\n",
    "\n",
    "grade_list = []\n",
    "gradeinput = input('Enter grades in the format: firstname lastname grade1 grade2 grade3 (press enter to finish):\\n')\n",
    "while gradeinput != '':\n",
    "    grade = gradeinput.split()\n",
    "    firstname, lastname, g1, g2, g3 = grade\n",
    "    grade_list.append({'firstname':firstname, 'lastname':lastname, 'grade1':int(g1), 'grade2':int(g2), 'grade3':int(g3)})\n",
    "    gradeinput = input('Enter grades in the format: firstname lastname grade1 grade2 grade3 (press enter to finish):\\n')\n",
    "\n",
    "grade_dict = {'students': grade_list}\n",
    "\n",
    "with open('grades.json', 'w') as grades:\n",
    "    json.dump(grade_dict, grades)\n"
   ]
  }
 ],
 "metadata": {
  "kernelspec": {
   "display_name": "Python 3",
   "language": "python",
   "name": "python3"
  },
  "language_info": {
   "codemirror_mode": {
    "name": "ipython",
    "version": 3
   },
   "file_extension": ".py",
   "mimetype": "text/x-python",
   "name": "python",
   "nbconvert_exporter": "python",
   "pygments_lexer": "ipython3",
   "version": "3.9.5"
  }
 },
 "nbformat": 4,
 "nbformat_minor": 2
}
